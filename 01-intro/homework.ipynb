{
 "cells": [
  {
   "cell_type": "markdown",
   "id": "117a38af",
   "metadata": {},
   "source": [
    "# Q1"
   ]
  },
  {
   "cell_type": "code",
   "execution_count": 37,
   "id": "87c83c11",
   "metadata": {},
   "outputs": [],
   "source": [
    "import pandas as pd"
   ]
  },
  {
   "cell_type": "code",
   "execution_count": 38,
   "id": "0d061c3b",
   "metadata": {},
   "outputs": [
    {
     "name": "stdout",
     "output_type": "stream",
     "text": [
      "--2024-05-27 16:05:51--  https://d37ci6vzurychx.cloudfront.net/trip-data/yellow_tripdata_2023-01.parquet\n",
      "Resolving d37ci6vzurychx.cloudfront.net (d37ci6vzurychx.cloudfront.net)... 18.239.238.152, 18.239.238.119, 18.239.238.133, ...\n",
      "Connecting to d37ci6vzurychx.cloudfront.net (d37ci6vzurychx.cloudfront.net)|18.239.238.152|:443... connected.\n",
      "HTTP request sent, awaiting response... 200 OK\n",
      "Length: 47673370 (45M) [application/x-www-form-urlencoded]\n",
      "Saving to: ‘./data/yellow_tripdata_2023-01.parquet’\n",
      "\n",
      "./data/yellow_tripd 100%[===================>]  45.46M   119MB/s    in 0.4s    \n",
      "\n",
      "2024-05-27 16:05:51 (119 MB/s) - ‘./data/yellow_tripdata_2023-01.parquet’ saved [47673370/47673370]\n",
      "\n",
      "--2024-05-27 16:05:52--  https://d37ci6vzurychx.cloudfront.net/trip-data/yellow_tripdata_2023-02.parquet\n",
      "Resolving d37ci6vzurychx.cloudfront.net (d37ci6vzurychx.cloudfront.net)... 18.239.238.133, 18.239.238.212, 18.239.238.119, ...\n",
      "Connecting to d37ci6vzurychx.cloudfront.net (d37ci6vzurychx.cloudfront.net)|18.239.238.133|:443... connected.\n",
      "HTTP request sent, awaiting response... 200 OK\n",
      "Length: 47748012 (46M) [application/x-www-form-urlencoded]\n",
      "Saving to: ‘./data/yellow_tripdata_2023-02.parquet’\n",
      "\n",
      "./data/yellow_tripd 100%[===================>]  45.54M  95.8MB/s    in 0.5s    \n",
      "\n",
      "2024-05-27 16:05:52 (95.8 MB/s) - ‘./data/yellow_tripdata_2023-02.parquet’ saved [47748012/47748012]\n",
      "\n"
     ]
    }
   ],
   "source": [
    "#downloading the data\n",
    "!wget https://d37ci6vzurychx.cloudfront.net/trip-data/yellow_tripdata_2023-01.parquet -O ./data/yellow_tripdata_2023-01.parquet\n",
    "!wget https://d37ci6vzurychx.cloudfront.net/trip-data/yellow_tripdata_2023-02.parquet -O ./data/yellow_tripdata_2023-02.parquet"
   ]
  },
  {
   "cell_type": "code",
   "execution_count": 39,
   "id": "2a401cbf",
   "metadata": {},
   "outputs": [],
   "source": [
    "#loading the january data\n",
    "df_january = pd.read_parquet('data/yellow_tripdata_2023-01.parquet')"
   ]
  },
  {
   "cell_type": "code",
   "execution_count": 40,
   "id": "a0e5e071",
   "metadata": {},
   "outputs": [
    {
     "name": "stdout",
     "output_type": "stream",
     "text": [
      "19\n"
     ]
    }
   ],
   "source": [
    "#number of columns\n",
    "print(len(df_january.columns))"
   ]
  },
  {
   "cell_type": "markdown",
   "id": "e7c73bae",
   "metadata": {},
   "source": [
    "# Q2"
   ]
  },
  {
   "cell_type": "code",
   "execution_count": 41,
   "id": "d608a5e1",
   "metadata": {},
   "outputs": [],
   "source": [
    "# compute the durations"
   ]
  },
  {
   "cell_type": "code",
   "execution_count": 42,
   "id": "7c9f395d",
   "metadata": {},
   "outputs": [
    {
     "data": {
      "text/plain": [
       "Index(['VendorID', 'tpep_pickup_datetime', 'tpep_dropoff_datetime',\n",
       "       'passenger_count', 'trip_distance', 'RatecodeID', 'store_and_fwd_flag',\n",
       "       'PULocationID', 'DOLocationID', 'payment_type', 'fare_amount', 'extra',\n",
       "       'mta_tax', 'tip_amount', 'tolls_amount', 'improvement_surcharge',\n",
       "       'total_amount', 'congestion_surcharge', 'airport_fee'],\n",
       "      dtype='object')"
      ]
     },
     "execution_count": 42,
     "metadata": {},
     "output_type": "execute_result"
    }
   ],
   "source": [
    "df_january.columns"
   ]
  },
  {
   "cell_type": "code",
   "execution_count": 43,
   "id": "98e3849d",
   "metadata": {},
   "outputs": [
    {
     "name": "stdout",
     "output_type": "stream",
     "text": [
      "durations std: 42.59\n"
     ]
    }
   ],
   "source": [
    "#compute durations and give the std of the durations\n",
    "df_january[\"tpep_pickup_datetime\"] = pd.to_datetime(df_january[\"tpep_pickup_datetime\"])\n",
    "df_january[\"tpep_dropoff_datetime\"] = pd.to_datetime(df_january[\"tpep_dropoff_datetime\"])\n",
    "df_january[\"duration\"]= df_january[\"tpep_dropoff_datetime\"] - df_january[\"tpep_pickup_datetime\"]\n",
    "df_january[\"duration\"] = df_january[\"duration\"].apply(lambda d: d.total_seconds()/60)\n",
    "print(f\"durations std: {round(df_january.duration.std(),2)}\")\n"
   ]
  },
  {
   "cell_type": "markdown",
   "id": "6bc471f8",
   "metadata": {},
   "source": [
    "# Q3"
   ]
  },
  {
   "cell_type": "code",
   "execution_count": 44,
   "id": "546b2907",
   "metadata": {},
   "outputs": [],
   "source": [
    "#drop records where the duration was between 1 and 60 minutes (inclusive).\n",
    "mask = (df_january.duration <= 60) & (df_january.duration >=1)\n",
    "df_january= df_january[mask]"
   ]
  },
  {
   "cell_type": "code",
   "execution_count": 45,
   "id": "de42bdd8",
   "metadata": {},
   "outputs": [
    {
     "name": "stdout",
     "output_type": "stream",
     "text": [
      "fraction of remaining data: 98.12%\n"
     ]
    }
   ],
   "source": [
    "#print the fraction of remaining data\n",
    "print(f\"fraction of remaining data: {round(100* mask.sum()/len(mask),2)}%\")"
   ]
  },
  {
   "cell_type": "markdown",
   "id": "798cae39",
   "metadata": {},
   "source": [
    "# Q4"
   ]
  },
  {
   "cell_type": "code",
   "execution_count": 70,
   "id": "887564ab",
   "metadata": {},
   "outputs": [],
   "source": [
    "from sklearn.feature_extraction import DictVectorizer"
   ]
  },
  {
   "cell_type": "code",
   "execution_count": 71,
   "id": "bab48a78",
   "metadata": {},
   "outputs": [],
   "source": [
    "#get the list of dictionaries from the dataframe\n",
    "df_dicts = df_january[id_cols].to_dict(orient='records')\n",
    "id_cols = [\"PULocationID\", \"DOLocationID\"]\n",
    "df_january[id_cols]= df_january[id_cols].astype(str)"
   ]
  },
  {
   "cell_type": "code",
   "execution_count": 72,
   "id": "64755fda",
   "metadata": {},
   "outputs": [],
   "source": [
    "#Fit dictionary vectorizer and get feature matrix\n",
    "dv = DictVectorizer()\n",
    "X = dv.fit_transform(df_dicts)"
   ]
  },
  {
   "cell_type": "code",
   "execution_count": 73,
   "id": "3e1db251",
   "metadata": {},
   "outputs": [
    {
     "name": "stdout",
     "output_type": "stream",
     "text": [
      "number of columns of the features matrix: 515\n"
     ]
    }
   ],
   "source": [
    "#number of columns\n",
    "print(f\"number of columns of the features matrix: {X.shape[1]}\")"
   ]
  },
  {
   "cell_type": "markdown",
   "id": "2aa7ab6f",
   "metadata": {},
   "source": [
    "# Q5"
   ]
  },
  {
   "cell_type": "code",
   "execution_count": 74,
   "id": "fc9870bf",
   "metadata": {},
   "outputs": [],
   "source": [
    "from sklearn.metrics import mean_squared_error\n",
    "from sklearn.linear_model import LinearRegression"
   ]
  },
  {
   "cell_type": "code",
   "execution_count": 78,
   "id": "3b8ff7a9",
   "metadata": {},
   "outputs": [
    {
     "data": {
      "text/plain": [
       "LinearRegression()"
      ]
     },
     "execution_count": 78,
     "metadata": {},
     "output_type": "execute_result"
    }
   ],
   "source": [
    "#train a linear regression model to predict the durations\n",
    "lr = LinearRegression()\n",
    "y = df_january[\"duration\"].values\n",
    "lr.fit(X,y)"
   ]
  },
  {
   "cell_type": "code",
   "execution_count": 81,
   "id": "0a6b3f23",
   "metadata": {},
   "outputs": [
    {
     "name": "stdout",
     "output_type": "stream",
     "text": [
      "RMSE on train data: 7.65\n"
     ]
    }
   ],
   "source": [
    "# get the RMSE on train\n",
    "y_pred = lr.predict(X)\n",
    "print(f\"RMSE on train data: {round(mean_squared_error(y_pred, y, squared=False), 2)}\")"
   ]
  },
  {
   "cell_type": "code",
   "execution_count": null,
   "id": "e7a89a08",
   "metadata": {},
   "outputs": [],
   "source": []
  }
 ],
 "metadata": {
  "kernelspec": {
   "display_name": "Python 3 (ipykernel)",
   "language": "python",
   "name": "python3"
  },
  "language_info": {
   "codemirror_mode": {
    "name": "ipython",
    "version": 3
   },
   "file_extension": ".py",
   "mimetype": "text/x-python",
   "name": "python",
   "nbconvert_exporter": "python",
   "pygments_lexer": "ipython3",
   "version": "3.9.12"
  }
 },
 "nbformat": 4,
 "nbformat_minor": 5
}
