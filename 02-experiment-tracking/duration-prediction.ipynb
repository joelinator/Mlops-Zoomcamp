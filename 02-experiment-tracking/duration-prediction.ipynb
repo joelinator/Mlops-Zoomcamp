{
 "cells": [
  {
   "cell_type": "code",
   "execution_count": 1,
   "id": "9a610e7a",
   "metadata": {},
   "outputs": [
    {
     "name": "stdout",
     "output_type": "stream",
     "text": [
      "Python 3.9.12\n"
     ]
    }
   ],
   "source": [
    "!python -V"
   ]
  },
  {
   "cell_type": "code",
   "execution_count": 2,
   "id": "35bc66ec",
   "metadata": {},
   "outputs": [],
   "source": [
    "import pandas as pd"
   ]
  },
  {
   "cell_type": "code",
   "execution_count": 3,
   "id": "e42c5b21",
   "metadata": {},
   "outputs": [],
   "source": [
    "import seaborn as sns\n",
    "import matplotlib.pyplot as plt"
   ]
  },
  {
   "cell_type": "code",
   "execution_count": 4,
   "id": "64a923af",
   "metadata": {},
   "outputs": [],
   "source": [
    "from sklearn.feature_extraction import DictVectorizer\n",
    "from sklearn.linear_model import LinearRegression\n",
    "from sklearn.linear_model import Lasso\n",
    "from sklearn.linear_model import Ridge\n",
    "from sklearn.metrics import mean_squared_error\n",
    "\n",
    "import pickle"
   ]
  },
  {
   "cell_type": "code",
   "execution_count": 5,
   "id": "e0279d93",
   "metadata": {},
   "outputs": [
    {
     "data": {
      "text/plain": [
       "<Experiment: artifact_location='/workspaces/Mlops-Zoomcamp/mlruns/1', creation_time=1717104848676, experiment_id='1', last_update_time=1717104848676, lifecycle_stage='active', name='Nyc-Taxi-Experiment', tags={}>"
      ]
     },
     "execution_count": 5,
     "metadata": {},
     "output_type": "execute_result"
    }
   ],
   "source": [
    "import mlflow\n",
    "mlflow.set_tracking_uri(\"sqlite:///mlflow.db\")\n",
    "mlflow.set_experiment(\"Nyc-Taxi-Experiment\")"
   ]
  },
  {
   "cell_type": "code",
   "execution_count": 6,
   "id": "92e4d843",
   "metadata": {},
   "outputs": [],
   "source": [
    "def read_dataframe(filename):\n",
    "    df = pd.read_parquet(filename)\n",
    "    df.lpep_dropoff_datetime = pd.to_datetime(df.lpep_dropoff_datetime)\n",
    "    df.lpep_pickup_datetime = pd.to_datetime(df.lpep_pickup_datetime)\n",
    "    df[\"duration\"]=df.lpep_dropoff_datetime - df.lpep_pickup_datetime\n",
    "    df.duration = df.duration.apply(lambda td: td.total_seconds() / 60)\n",
    "    df = df[((df.duration >= 1) & (df.duration <=60))]\n",
    "    categorical = ['PULocationID', 'DOLocationID']\n",
    "    df[categorical] = df[categorical].astype(str)\n",
    "    return df\n",
    "    "
   ]
  },
  {
   "cell_type": "code",
   "execution_count": 7,
   "id": "52c54a6a",
   "metadata": {},
   "outputs": [],
   "source": [
    "df_train = read_dataframe('data/green_tripdata_2021-01.parquet')\n",
    "df_val = read_dataframe('data/green_tripdata_2021-02.parquet')\n"
   ]
  },
  {
   "cell_type": "code",
   "execution_count": 8,
   "id": "c056ec2a",
   "metadata": {},
   "outputs": [],
   "source": [
    "categorical = [\"PU_DO\"]\n",
    "numerical = ['trip_distance']"
   ]
  },
  {
   "cell_type": "code",
   "execution_count": 9,
   "id": "723396c7",
   "metadata": {},
   "outputs": [],
   "source": [
    "df_train['PU_DO']=df_train[\"PULocationID\"]+'_'+df_train[\"DOLocationID\"]\n",
    "df_val['PU_DO']=df_val[\"PULocationID\"]+'_'+ df_val[\"DOLocationID\"]"
   ]
  },
  {
   "cell_type": "code",
   "execution_count": 10,
   "id": "3ff57c25",
   "metadata": {},
   "outputs": [],
   "source": [
    "dv = DictVectorizer()\n",
    "train_dicts = df_train[categorical + numerical].to_dict(orient='records')\n",
    "val_dicts = df_val[categorical +numerical].to_dict(orient=\"records\")\n",
    "\n",
    "X_train = dv.fit_transform(train_dicts)\n",
    "X_val = dv.transform(val_dicts)"
   ]
  },
  {
   "cell_type": "code",
   "execution_count": 11,
   "id": "275376f8",
   "metadata": {},
   "outputs": [],
   "source": [
    "target = 'duration'\n",
    "\n",
    "y_train = df_train[target].values\n",
    "y_val = df_val[target].values"
   ]
  },
  {
   "cell_type": "code",
   "execution_count": 12,
   "id": "45247077",
   "metadata": {},
   "outputs": [
    {
     "data": {
      "text/plain": [
       "7.479562160810692"
      ]
     },
     "execution_count": 12,
     "metadata": {},
     "output_type": "execute_result"
    }
   ],
   "source": [
    "lr = LinearRegression()\n",
    "lr.fit(X_train, y_train)\n",
    "\n",
    "y_pred = lr.predict(X_val)\n",
    "\n",
    "mean_squared_error(y_val, y_pred, squared = False)"
   ]
  },
  {
   "cell_type": "code",
   "execution_count": 13,
   "id": "1676639e",
   "metadata": {},
   "outputs": [],
   "source": [
    "with mlflow.start_run():\n",
    "    mlflow.set_tag(\"developer\", \"cristian\")\n",
    "    alpha = 0.1\n",
    "    mlflow.log_param(\"train-data-path\", \"data/green_tripdata_2021-01.parquet\")\n",
    "    mlflow.log_param(\"valid-data-path\", \"data/green_tripdata_2021-02.parquet\")\n",
    "    ls = Lasso(alpha = alpha)\n",
    "    ls.fit(X_train, y_train)\n",
    "\n",
    "    y_pred = ls.predict(X_val)\n",
    "\n",
    "    rmse = mean_squared_error(y_val, y_pred, squared = False)\n",
    "    mlflow.log_metric(\"rmse\", rmse)"
   ]
  },
  {
   "cell_type": "code",
   "execution_count": 14,
   "id": "554f5390",
   "metadata": {},
   "outputs": [],
   "source": [
    "with open(\"models/linreg.bin\", \"wb\") as f_out:\n",
    "    pickle.dump((dv, lr), f_out)"
   ]
  },
  {
   "cell_type": "code",
   "execution_count": 15,
   "id": "09855292",
   "metadata": {},
   "outputs": [],
   "source": [
    "import xgboost as xgb\n",
    "\n",
    "from hyperopt import fmin, tpe, hp, STATUS_OK, Trials\n",
    "from hyperopt.pyll import scope"
   ]
  },
  {
   "cell_type": "code",
   "execution_count": 16,
   "id": "ab60c4ab",
   "metadata": {},
   "outputs": [],
   "source": [
    "train = xgb.DMatrix(X_train, label = y_train)\n",
    "valid = xgb.DMatrix(X_val, label = y_val)"
   ]
  },
  {
   "cell_type": "code",
   "execution_count": 17,
   "id": "8f1d389c",
   "metadata": {},
   "outputs": [],
   "source": [
    "def objective(params):\n",
    "    with mlflow.start_run():\n",
    "        mlflow.set_tag(\"model\", \"xgboost\")\n",
    "        mlflow.log_params(params)\n",
    "        booster = xgb.train(\n",
    "            params = params,\n",
    "            dtrain = train,\n",
    "            num_boost_round=1000,\n",
    "            evals = [(valid, \"validation\")],\n",
    "            early_stopping_rounds=50\n",
    "        )\n",
    "        y_pred = booster.predict(valid)\n",
    "        rmse = mean_squared_error(y_val, y_pred, squared = False)\n",
    "        mlflow.log_metric(\"rmse\", rmse)\n",
    "\n",
    "    return {\"loss\": rmse, \"status\":STATUS_OK}"
   ]
  },
  {
   "cell_type": "code",
   "execution_count": 18,
   "id": "e7b328f1",
   "metadata": {},
   "outputs": [
    {
     "data": {
      "text/plain": [
       "'search_space = {\\n    \"max_depth\": scope.int(hp.quniform(\"max_depth\", 4, 100, 1)),\\n    \"learning_rate\": hp.loguniform(\"learning_rate\", -3,0),\\n    \"reg_alpha\": hp.loguniform(\"reg_alpha\", -5,-1),\\n    \"min_child_weight\": hp.loguniform(\"min_child_weight\", -1, 3),\\n    \"objective\": \"reg:linear\",\\n    \"seed\": 42\\n}\\n\\nbest_result = fmin(\\n    fn = objective,\\n    space = search_space,\\n    algo = tpe.suggest,\\n    max_evals= 50,\\n    trials = Trials()\\n)'"
      ]
     },
     "execution_count": 18,
     "metadata": {},
     "output_type": "execute_result"
    }
   ],
   "source": [
    "\"\"\"search_space = {\n",
    "    \"max_depth\": scope.int(hp.quniform(\"max_depth\", 4, 100, 1)),\n",
    "    \"learning_rate\": hp.loguniform(\"learning_rate\", -3,0),\n",
    "    \"reg_alpha\": hp.loguniform(\"reg_alpha\", -5,-1),\n",
    "    \"min_child_weight\": hp.loguniform(\"min_child_weight\", -1, 3),\n",
    "    \"objective\": \"reg:linear\",\n",
    "    \"seed\": 42\n",
    "}\n",
    "\n",
    "best_result = fmin(\n",
    "    fn = objective,\n",
    "    space = search_space,\n",
    "    algo = tpe.suggest,\n",
    "    max_evals= 50,\n",
    "    trials = Trials()\n",
    ")\"\"\""
   ]
  },
  {
   "cell_type": "code",
   "execution_count": 19,
   "id": "d2009ffc",
   "metadata": {},
   "outputs": [
    {
     "name": "stderr",
     "output_type": "stream",
     "text": [
      "2024/05/31 07:20:34 INFO mlflow.utils.autologging_utils: Created MLflow autologging run with ID '46ce59938016415f9c9b81856037ecf7', which will track hyperparameters, performance metrics, model artifacts, and lineage information for the current xgboost workflow\n"
     ]
    },
    {
     "ename": "",
     "evalue": "",
     "output_type": "error",
     "traceback": [
      "\u001b[1;31mThe Kernel crashed while executing code in the current cell or a previous cell. \n",
      "\u001b[1;31mPlease review the code in the cell(s) to identify a possible cause of the failure. \n",
      "\u001b[1;31mClick <a href='https://aka.ms/vscodeJupyterKernelCrash'>here</a> for more info. \n",
      "\u001b[1;31mView Jupyter <a href='command:jupyter.viewOutput'>log</a> for further details."
     ]
    },
    {
     "ename": "",
     "evalue": "",
     "output_type": "error",
     "traceback": [
      "\u001b[1;31mCanceled future for execute_request message before replies were done"
     ]
    },
    {
     "ename": "",
     "evalue": "",
     "output_type": "error",
     "traceback": [
      "\u001b[1;31mCanceled future for execute_request message before replies were done. \n",
      "\u001b[1;31mView Jupyter <a href='command:jupyter.viewOutput'>log</a> for further details."
     ]
    }
   ],
   "source": [
    "params = {\n",
    "    \"learning_rate\": 0.27239573739603645,\n",
    "    \"max_depth\": 17,\n",
    "    \"min_child_weight\":1.172699044761734,\n",
    "    \"objective\": \"reg:linear\",\n",
    "    \"reg_alpha\":0.0616867958133725,\n",
    "    \"reg_lambda\": 0.004264404814393109,\n",
    "    \"seed\": 42\n",
    "    \n",
    "}\n",
    "\n",
    "mlflow.xgboost.autolog()\n",
    "booster = xgb.train(\n",
    "    params = params,\n",
    "    dtrain = train,\n",
    "    num_boost_round=1000,\n",
    "    evals = [(valid, \"validatiaon\")],\n",
    "    early_stopping_rounds = 50\n",
    ")"
   ]
  },
  {
   "cell_type": "code",
   "execution_count": null,
   "id": "b3afb97b",
   "metadata": {},
   "outputs": [],
   "source": []
  }
 ],
 "metadata": {
  "kernelspec": {
   "display_name": "Python 3 (ipykernel)",
   "language": "python",
   "name": "python3"
  },
  "language_info": {
   "codemirror_mode": {
    "name": "ipython",
    "version": 3
   },
   "file_extension": ".py",
   "mimetype": "text/x-python",
   "name": "python",
   "nbconvert_exporter": "python",
   "pygments_lexer": "ipython3",
   "version": "3.9.12"
  }
 },
 "nbformat": 4,
 "nbformat_minor": 5
}
